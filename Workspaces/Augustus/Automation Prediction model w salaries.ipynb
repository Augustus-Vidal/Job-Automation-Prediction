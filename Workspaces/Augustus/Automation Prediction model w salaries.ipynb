{
 "cells": [
  {
   "cell_type": "code",
   "execution_count": 8,
   "metadata": {},
   "outputs": [
    {
     "name": "stdout",
     "output_type": "stream",
     "text": [
      "Requirement already satisfied: kagglehub in c:\\users\\augus\\anaconda3\\envs\\py310\\lib\\site-packages (0.3.3)\n",
      "Requirement already satisfied: packaging in c:\\users\\augus\\anaconda3\\envs\\py310\\lib\\site-packages (from kagglehub) (23.2)\n",
      "Requirement already satisfied: requests in c:\\users\\augus\\anaconda3\\envs\\py310\\lib\\site-packages (from kagglehub) (2.32.2)\n",
      "Requirement already satisfied: tqdm in c:\\users\\augus\\anaconda3\\envs\\py310\\lib\\site-packages (from kagglehub) (4.66.4)\n",
      "Requirement already satisfied: charset-normalizer<4,>=2 in c:\\users\\augus\\anaconda3\\envs\\py310\\lib\\site-packages (from requests->kagglehub) (2.0.4)\n",
      "Requirement already satisfied: idna<4,>=2.5 in c:\\users\\augus\\anaconda3\\envs\\py310\\lib\\site-packages (from requests->kagglehub) (3.7)\n",
      "Requirement already satisfied: urllib3<3,>=1.21.1 in c:\\users\\augus\\anaconda3\\envs\\py310\\lib\\site-packages (from requests->kagglehub) (2.2.2)\n",
      "Requirement already satisfied: certifi>=2017.4.17 in c:\\users\\augus\\anaconda3\\envs\\py310\\lib\\site-packages (from requests->kagglehub) (2024.6.2)\n",
      "Requirement already satisfied: colorama in c:\\users\\augus\\anaconda3\\envs\\py310\\lib\\site-packages (from tqdm->kagglehub) (0.4.6)\n",
      "Note: you may need to restart the kernel to use updated packages.\n"
     ]
    }
   ],
   "source": [
    "pip install kagglehub\n"
   ]
  },
  {
   "cell_type": "code",
   "execution_count": 9,
   "metadata": {},
   "outputs": [
    {
     "name": "stdout",
     "output_type": "stream",
     "text": [
      "Path to dataset files: C:\\Users\\Augus\\.cache\\kagglehub\\datasets\\uom190346a\\ai-powered-job-market-insights\\versions\\1\n"
     ]
    }
   ],
   "source": [
    "import kagglehub\n",
    "\n",
    "# Download latest version\n",
    "path = kagglehub.dataset_download(\"uom190346a/ai-powered-job-market-insights\")\n",
    "\n",
    "print(\"Path to dataset files:\", path)"
   ]
  },
  {
   "cell_type": "code",
   "execution_count": 10,
   "metadata": {},
   "outputs": [
    {
     "name": "stdout",
     "output_type": "stream",
     "text": [
      "Files in dataset folder: ['ai_job_market_insights.csv']\n"
     ]
    }
   ],
   "source": [
    "import os\n",
    "files = os.listdir(path)\n",
    "print(\"Files in dataset folder:\", files)"
   ]
  },
  {
   "cell_type": "code",
   "execution_count": 11,
   "metadata": {},
   "outputs": [
    {
     "name": "stdout",
     "output_type": "stream",
     "text": [
      "               Job_Title       Industry Company_Size   Location  \\\n",
      "0  Cybersecurity Analyst  Entertainment        Small      Dubai   \n",
      "1   Marketing Specialist     Technology        Large  Singapore   \n",
      "2          AI Researcher     Technology        Large  Singapore   \n",
      "3          Sales Manager         Retail        Small     Berlin   \n",
      "4  Cybersecurity Analyst  Entertainment        Small      Tokyo   \n",
      "\n",
      "  AI_Adoption_Level Automation_Risk     Required_Skills     Salary_USD  \\\n",
      "0            Medium            High        UX/UI Design  111392.165243   \n",
      "1            Medium            High           Marketing   93792.562466   \n",
      "2            Medium            High        UX/UI Design  107170.263069   \n",
      "3               Low            High  Project Management   93027.953758   \n",
      "4               Low             Low          JavaScript   87752.922171   \n",
      "\n",
      "  Remote_Friendly Job_Growth_Projection  \n",
      "0             Yes                Growth  \n",
      "1              No               Decline  \n",
      "2             Yes                Growth  \n",
      "3              No                Growth  \n",
      "4             Yes               Decline  \n"
     ]
    }
   ],
   "source": [
    "import pandas as pd\n",
    "csv_file = os.path.join(path, 'ai_job_market_insights.csv')  \n",
    "job_market_data = pd.read_csv(csv_file)\n",
    "\n",
    "\n",
    "print(job_market_data.head())"
   ]
  },
  {
   "cell_type": "code",
   "execution_count": 12,
   "metadata": {},
   "outputs": [
    {
     "data": {
      "application/vnd.jupyter.widget-view+json": {
       "model_id": "4eaaac8e138d43f5a9f56f9683a8fdb6",
       "version_major": 2,
       "version_minor": 0
      },
      "text/plain": [
       "Dropdown(description='Job Title:', options=('Cybersecurity Analyst', 'Marketing Specialist', 'AI Researcher', …"
      ]
     },
     "metadata": {},
     "output_type": "display_data"
    },
    {
     "data": {
      "application/vnd.jupyter.widget-view+json": {
       "model_id": "5d8a7556d6e540d9aab5871557071e7d",
       "version_major": 2,
       "version_minor": 0
      },
      "text/plain": [
       "Dropdown(description='Industry:', options=('Entertainment', 'Technology', 'Retail', 'Education', 'Finance', 'T…"
      ]
     },
     "metadata": {},
     "output_type": "display_data"
    },
    {
     "data": {
      "application/vnd.jupyter.widget-view+json": {
       "model_id": "266a14f2a7de4962b0f78b6f9cb9541d",
       "version_major": 2,
       "version_minor": 0
      },
      "text/plain": [
       "Dropdown(description='Company Size:', options=('Small', 'Large', 'Medium'), value='Small')"
      ]
     },
     "metadata": {},
     "output_type": "display_data"
    },
    {
     "data": {
      "application/vnd.jupyter.widget-view+json": {
       "model_id": "ce20fcf0625a4d30ba4eb304d96fc539",
       "version_major": 2,
       "version_minor": 0
      },
      "text/plain": [
       "Dropdown(description='Location:', options=('Dubai', 'Singapore', 'Berlin', 'Tokyo', 'San Francisco', 'London',…"
      ]
     },
     "metadata": {},
     "output_type": "display_data"
    },
    {
     "data": {
      "application/vnd.jupyter.widget-view+json": {
       "model_id": "d834dd7f08a442a4b43afe01223dc220",
       "version_major": 2,
       "version_minor": 0
      },
      "text/plain": [
       "Dropdown(description='Salary Range:', options=('$31,000-$55,999', '$56,000-$80,999', '$81,000-$105,999', '$106…"
      ]
     },
     "metadata": {},
     "output_type": "display_data"
    },
    {
     "data": {
      "application/vnd.jupyter.widget-view+json": {
       "model_id": "ddb663aae9c94717b8808e45e4d8622a",
       "version_major": 2,
       "version_minor": 0
      },
      "text/plain": [
       "Button(description='Predict Automation Risk', style=ButtonStyle())"
      ]
     },
     "metadata": {},
     "output_type": "display_data"
    },
    {
     "data": {
      "application/vnd.jupyter.widget-view+json": {
       "model_id": "db9eb5e7f39f4697bd37177040e46ea5",
       "version_major": 2,
       "version_minor": 0
      },
      "text/plain": [
       "Output()"
      ]
     },
     "metadata": {},
     "output_type": "display_data"
    }
   ],
   "source": [
    "import pandas as pd\n",
    "import os\n",
    "from sklearn.ensemble import RandomForestClassifier\n",
    "from sklearn.preprocessing import LabelEncoder\n",
    "import ipywidgets as widgets\n",
    "from IPython.display import display\n",
    "import numpy as np\n",
    "\n",
    "csv_file = os.path.join(path, 'ai_job_market_insights.csv')\n",
    "df = pd.read_csv(csv_file)\n",
    "\n",
    "# Encode categorical variables\n",
    "risk_mapping = {'Low': 0, 'Medium': 1, 'High': 2}\n",
    "df['Automation_Risk_Encoded'] = df['Automation_Risk'].map(risk_mapping)\n",
    "\n",
    "# Define salary ranges by increments of $25,000, rounding to the nearest thousand\n",
    "min_salary = int(df['Salary_USD'].min() // 1000 * 1000)\n",
    "max_salary = int(df['Salary_USD'].max() // 1000 * 1000 + 25000)\n",
    "salary_ranges = {f\"${i:,}-${i + 24999:,}\": (i, i + 24999) for i in range(min_salary, max_salary + 25000, 25000)}\n",
    "representative_salaries = {k: (v[0] + v[1]) / 2 for k, v in salary_ranges.items()}\n",
    "\n",
    "features = ['Job_Title', 'Industry', 'Company_Size', 'Location', 'AI_Adoption_Level', 'Salary_USD']\n",
    "target = 'Automation_Risk_Encoded'\n",
    "\n",
    "# Encoding job title, industry, company size, and location columns\n",
    "encoder = LabelEncoder()\n",
    "encoded_df = df.copy()\n",
    "for column in ['Job_Title', 'Industry', 'Company_Size', 'Location', 'AI_Adoption_Level']:\n",
    "    encoded_df[column] = encoder.fit_transform(df[column])\n",
    "\n",
    "# Train the Random Forest classifier\n",
    "X = encoded_df[features]\n",
    "y = encoded_df[target]\n",
    "rfc = RandomForestClassifier(n_estimators=100, random_state=42)\n",
    "rfc.fit(X, y)\n",
    "\n",
    "# Create dropdown widgets for user input\n",
    "job_titles = df['Job_Title'].unique()\n",
    "industries = df['Industry'].unique()\n",
    "company_sizes = df['Company_Size'].unique()\n",
    "locations = df['Location'].unique()\n",
    "\n",
    "job_title_dropdown = widgets.Dropdown(options=job_titles, description=\"Job Title:\")\n",
    "industry_dropdown = widgets.Dropdown(options=industries, description=\"Industry:\")\n",
    "company_size_dropdown = widgets.Dropdown(options=company_sizes, description=\"Company Size:\")\n",
    "location_dropdown = widgets.Dropdown(options=locations, description=\"Location:\")\n",
    "salary_range_dropdown = widgets.Dropdown(options=salary_ranges.keys(), description=\"Salary Range:\")\n",
    "\n",
    "display(job_title_dropdown, industry_dropdown, company_size_dropdown, location_dropdown, salary_range_dropdown)\n",
    "\n",
    "# Define prediction function\n",
    "def predict_automation_risk(job_title, industry, company_size, location, salary_range):\n",
    "    # Map selected salary range to a representative salary value\n",
    "    salary = representative_salaries[salary_range]\n",
    "    \n",
    "    # Prepare input data by encoding\n",
    "    input_data = pd.DataFrame([[job_title, industry, company_size, location, 'Medium', salary]], columns=features)\n",
    "    for column in ['Job_Title', 'Industry', 'Company_Size', 'Location', 'AI_Adoption_Level']:\n",
    "        input_data[column] = encoder.fit_transform(pd.concat([df[column], input_data[column]], ignore_index=True))[-1]\n",
    "    \n",
    "    # Predict using the model\n",
    "    prediction_encoded = rfc.predict(input_data)[0]\n",
    "    prediction = {0: 'Low', 1: 'Medium', 2: 'High'}.get(prediction_encoded, \"Unknown\")\n",
    "    \n",
    "    return f\"The likelihood of job automation is: {prediction}\"\n",
    "\n",
    "# Button and output area setup\n",
    "predict_button = widgets.Button(description=\"Predict Automation Risk\")\n",
    "output = widgets.Output()\n",
    "\n",
    "# Button click event\n",
    "def on_button_click(b):\n",
    "    job_title = job_title_dropdown.value\n",
    "    industry = industry_dropdown.value\n",
    "    company_size = company_size_dropdown.value\n",
    "    location = location_dropdown.value\n",
    "    salary_range = salary_range_dropdown.value\n",
    "    \n",
    "    # Display result in output widget\n",
    "    with output:\n",
    "        output.clear_output()  # Clear previous output\n",
    "        result = predict_automation_risk(job_title, industry, company_size, location, salary_range)\n",
    "        print(result)  # Display prediction result\n",
    "\n",
    "predict_button.on_click(on_button_click)\n",
    "\n",
    "# Display button and output widget\n",
    "display(predict_button, output)\n"
   ]
  }
 ],
 "metadata": {
  "kernelspec": {
   "display_name": "py310",
   "language": "python",
   "name": "python3"
  },
  "language_info": {
   "codemirror_mode": {
    "name": "ipython",
    "version": 3
   },
   "file_extension": ".py",
   "mimetype": "text/x-python",
   "name": "python",
   "nbconvert_exporter": "python",
   "pygments_lexer": "ipython3",
   "version": "3.10.14"
  }
 },
 "nbformat": 4,
 "nbformat_minor": 2
}
