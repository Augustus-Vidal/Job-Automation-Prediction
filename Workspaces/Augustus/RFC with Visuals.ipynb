{
 "cells": [
  {
   "cell_type": "code",
   "execution_count": 14,
   "metadata": {},
   "outputs": [
    {
     "name": "stdout",
     "output_type": "stream",
     "text": [
      "Requirement already satisfied: kagglehub in c:\\users\\augus\\anaconda3\\envs\\py310\\lib\\site-packages (0.3.3)\n",
      "Requirement already satisfied: packaging in c:\\users\\augus\\anaconda3\\envs\\py310\\lib\\site-packages (from kagglehub) (23.2)\n",
      "Requirement already satisfied: requests in c:\\users\\augus\\anaconda3\\envs\\py310\\lib\\site-packages (from kagglehub) (2.32.2)\n",
      "Requirement already satisfied: tqdm in c:\\users\\augus\\anaconda3\\envs\\py310\\lib\\site-packages (from kagglehub) (4.66.4)\n",
      "Requirement already satisfied: charset-normalizer<4,>=2 in c:\\users\\augus\\anaconda3\\envs\\py310\\lib\\site-packages (from requests->kagglehub) (2.0.4)\n",
      "Requirement already satisfied: idna<4,>=2.5 in c:\\users\\augus\\anaconda3\\envs\\py310\\lib\\site-packages (from requests->kagglehub) (3.7)\n",
      "Requirement already satisfied: urllib3<3,>=1.21.1 in c:\\users\\augus\\anaconda3\\envs\\py310\\lib\\site-packages (from requests->kagglehub) (2.2.2)\n",
      "Requirement already satisfied: certifi>=2017.4.17 in c:\\users\\augus\\anaconda3\\envs\\py310\\lib\\site-packages (from requests->kagglehub) (2024.6.2)\n",
      "Requirement already satisfied: colorama in c:\\users\\augus\\anaconda3\\envs\\py310\\lib\\site-packages (from tqdm->kagglehub) (0.4.6)\n",
      "Note: you may need to restart the kernel to use updated packages.\n"
     ]
    }
   ],
   "source": [
    "pip install kagglehub\n"
   ]
  },
  {
   "cell_type": "code",
   "execution_count": 15,
   "metadata": {},
   "outputs": [
    {
     "name": "stdout",
     "output_type": "stream",
     "text": [
      "Path to dataset files: C:\\Users\\Augus\\.cache\\kagglehub\\datasets\\uom190346a\\ai-powered-job-market-insights\\versions\\1\n"
     ]
    }
   ],
   "source": [
    "import kagglehub\n",
    "\n",
    "# Download latest version\n",
    "path = kagglehub.dataset_download(\"uom190346a/ai-powered-job-market-insights\")\n",
    "\n",
    "print(\"Path to dataset files:\", path)"
   ]
  },
  {
   "cell_type": "code",
   "execution_count": 16,
   "metadata": {},
   "outputs": [
    {
     "name": "stdout",
     "output_type": "stream",
     "text": [
      "Files in dataset folder: ['ai_job_market_insights.csv']\n"
     ]
    }
   ],
   "source": [
    "import os\n",
    "files = os.listdir(path)\n",
    "print(\"Files in dataset folder:\", files)"
   ]
  },
  {
   "cell_type": "code",
   "execution_count": 17,
   "metadata": {},
   "outputs": [
    {
     "name": "stdout",
     "output_type": "stream",
     "text": [
      "               Job_Title       Industry Company_Size   Location  \\\n",
      "0  Cybersecurity Analyst  Entertainment        Small      Dubai   \n",
      "1   Marketing Specialist     Technology        Large  Singapore   \n",
      "2          AI Researcher     Technology        Large  Singapore   \n",
      "3          Sales Manager         Retail        Small     Berlin   \n",
      "4  Cybersecurity Analyst  Entertainment        Small      Tokyo   \n",
      "\n",
      "  AI_Adoption_Level Automation_Risk     Required_Skills     Salary_USD  \\\n",
      "0            Medium            High        UX/UI Design  111392.165243   \n",
      "1            Medium            High           Marketing   93792.562466   \n",
      "2            Medium            High        UX/UI Design  107170.263069   \n",
      "3               Low            High  Project Management   93027.953758   \n",
      "4               Low             Low          JavaScript   87752.922171   \n",
      "\n",
      "  Remote_Friendly Job_Growth_Projection  \n",
      "0             Yes                Growth  \n",
      "1              No               Decline  \n",
      "2             Yes                Growth  \n",
      "3              No                Growth  \n",
      "4             Yes               Decline  \n"
     ]
    }
   ],
   "source": [
    "import pandas as pd\n",
    "csv_file = os.path.join(path, 'ai_job_market_insights.csv')  \n",
    "job_market_data = pd.read_csv(csv_file)\n",
    "\n",
    "\n",
    "print(job_market_data.head())"
   ]
  },
  {
   "cell_type": "code",
   "execution_count": 18,
   "metadata": {},
   "outputs": [
    {
     "data": {
      "application/vnd.jupyter.widget-view+json": {
       "model_id": "7c94ab8b1767406489cca328d9401971",
       "version_major": 2,
       "version_minor": 0
      },
      "text/plain": [
       "Dropdown(description='Job Title:', options=('AI Researcher', 'Cybersecurity Analyst', 'Data Scientist', 'HR Ma…"
      ]
     },
     "metadata": {},
     "output_type": "display_data"
    },
    {
     "data": {
      "application/vnd.jupyter.widget-view+json": {
       "model_id": "20de11825e8f4f469a0002761962ed61",
       "version_major": 2,
       "version_minor": 0
      },
      "text/plain": [
       "Dropdown(description='Industry:', options=('Education', 'Energy', 'Entertainment', 'Finance', 'Healthcare', 'M…"
      ]
     },
     "metadata": {},
     "output_type": "display_data"
    },
    {
     "data": {
      "application/vnd.jupyter.widget-view+json": {
       "model_id": "6c8add4e0fdf4f61a918546f7afddcb6",
       "version_major": 2,
       "version_minor": 0
      },
      "text/plain": [
       "Dropdown(description='Company Size:', options=('Large', 'Medium', 'Small'), value='Large')"
      ]
     },
     "metadata": {},
     "output_type": "display_data"
    },
    {
     "data": {
      "application/vnd.jupyter.widget-view+json": {
       "model_id": "1a5f74429a94440f83753aafb9399ee2",
       "version_major": 2,
       "version_minor": 0
      },
      "text/plain": [
       "Dropdown(description='Location:', options=('Berlin', 'Dubai', 'London', 'New York', 'Paris', 'San Francisco', …"
      ]
     },
     "metadata": {},
     "output_type": "display_data"
    },
    {
     "data": {
      "application/vnd.jupyter.widget-view+json": {
       "model_id": "4bed52da4afd4a9084caf3de228ede38",
       "version_major": 2,
       "version_minor": 0
      },
      "text/plain": [
       "Dropdown(description='Salary Range:', options=('$31,000-$55,999', '$56,000-$80,999', '$81,000-$105,999', '$106…"
      ]
     },
     "metadata": {},
     "output_type": "display_data"
    },
    {
     "data": {
      "application/vnd.jupyter.widget-view+json": {
       "model_id": "8b6b524bb4ac42b2b31034fb6970d3b9",
       "version_major": 2,
       "version_minor": 0
      },
      "text/plain": [
       "Dropdown(description='Remote-Friendly:', options=('Yes', 'No'), value='Yes')"
      ]
     },
     "metadata": {},
     "output_type": "display_data"
    },
    {
     "data": {
      "application/vnd.jupyter.widget-view+json": {
       "model_id": "808a2a02ccfb42dfba649eb48f85f25a",
       "version_major": 2,
       "version_minor": 0
      },
      "text/plain": [
       "Button(description='Predict Automation Risk', style=ButtonStyle())"
      ]
     },
     "metadata": {},
     "output_type": "display_data"
    },
    {
     "data": {
      "application/vnd.jupyter.widget-view+json": {
       "model_id": "df6b46d05eaf44669da81cec01fe7f06",
       "version_major": 2,
       "version_minor": 0
      },
      "text/plain": [
       "Output()"
      ]
     },
     "metadata": {},
     "output_type": "display_data"
    }
   ],
   "source": [
    "import pandas as pd\n",
    "import os\n",
    "from sklearn.ensemble import RandomForestClassifier\n",
    "from sklearn.preprocessing import LabelEncoder\n",
    "import ipywidgets as widgets\n",
    "from IPython.display import display\n",
    "import numpy as np\n",
    "\n",
    "csv_file = os.path.join(path, 'ai_job_market_insights.csv')\n",
    "df = pd.read_csv(csv_file)\n",
    "\n",
    "# Encode categorical variables\n",
    "risk_mapping = {'Low': 0, 'Medium': 1, 'High': 2}\n",
    "df['Automation_Risk_Encoded'] = df['Automation_Risk'].map(risk_mapping)\n",
    "\n",
    "# Convert Remote_Friendly to binary format\n",
    "df['Remote_Friendly_Binary'] = df['Remote_Friendly'].apply(lambda x: 1 if x == 'Yes' else 0)\n",
    "\n",
    "# Define salary ranges by increments of $25,000, rounding to the nearest thousand\n",
    "min_salary = int(df['Salary_USD'].min() // 1000 * 1000)\n",
    "max_salary = int(df['Salary_USD'].max() // 1000 * 1000 + 25000)\n",
    "salary_ranges = {f\"${i:,}-${i + 24999:,}\": (i, i + 24999) for i in range(min_salary, max_salary + 25000, 25000)}\n",
    "representative_salaries = {k: (v[0] + v[1]) / 2 for k, v in salary_ranges.items()}\n",
    "\n",
    "# Update features list to include the new binary column\n",
    "features = ['Job_Title', 'Industry', 'Company_Size', 'Location', 'AI_Adoption_Level', 'Salary_USD', 'Remote_Friendly_Binary']\n",
    "target = 'Automation_Risk_Encoded'\n",
    "\n",
    "# Initialize encoders for categorical variables\n",
    "label_encoders = {}\n",
    "for column in ['Job_Title', 'Industry', 'Company_Size', 'Location', 'AI_Adoption_Level']:\n",
    "    le = LabelEncoder()\n",
    "    df[column] = le.fit_transform(df[column])\n",
    "    label_encoders[column] = le  # Save each encoder for later use\n",
    "\n",
    "# Train the Random Forest classifier\n",
    "X = df[features]\n",
    "y = df[target]\n",
    "rfc = RandomForestClassifier(n_estimators=100, random_state=42)\n",
    "rfc.fit(X, y)\n",
    "\n",
    "# Create dropdown widgets for user input\n",
    "job_titles = label_encoders['Job_Title'].inverse_transform(range(len(label_encoders['Job_Title'].classes_)))\n",
    "industries = label_encoders['Industry'].inverse_transform(range(len(label_encoders['Industry'].classes_)))\n",
    "company_sizes = label_encoders['Company_Size'].inverse_transform(range(len(label_encoders['Company_Size'].classes_)))\n",
    "locations = label_encoders['Location'].inverse_transform(range(len(label_encoders['Location'].classes_)))\n",
    "\n",
    "job_title_dropdown = widgets.Dropdown(options=job_titles, description=\"Job Title:\")\n",
    "industry_dropdown = widgets.Dropdown(options=industries, description=\"Industry:\")\n",
    "company_size_dropdown = widgets.Dropdown(options=company_sizes, description=\"Company Size:\")\n",
    "location_dropdown = widgets.Dropdown(options=locations, description=\"Location:\")\n",
    "salary_range_dropdown = widgets.Dropdown(options=salary_ranges.keys(), description=\"Salary Range:\")\n",
    "remote_friendly_dropdown = widgets.Dropdown(options=['Yes', 'No'], description=\"Remote-Friendly:\")\n",
    "\n",
    "display(job_title_dropdown, industry_dropdown, company_size_dropdown, location_dropdown, salary_range_dropdown, remote_friendly_dropdown)\n",
    "\n",
    "# Define prediction function with Remote-Friendly\n",
    "def predict_automation_risk(job_title, industry, company_size, location, salary_range, remote_friendly):\n",
    "    # Map selected salary range to a representative salary value\n",
    "    salary = representative_salaries[salary_range]\n",
    "    # Map Remote-Friendly to binary format\n",
    "    remote_friendly_binary = 1 if remote_friendly == 'Yes' else 0\n",
    "    \n",
    "    # Encode input values using pre-fitted encoders\n",
    "    input_data = pd.DataFrame([[\n",
    "        label_encoders['Job_Title'].transform([job_title])[0],\n",
    "        label_encoders['Industry'].transform([industry])[0],\n",
    "        label_encoders['Company_Size'].transform([company_size])[0],\n",
    "        label_encoders['Location'].transform([location])[0],\n",
    "        label_encoders['AI_Adoption_Level'].transform(['Medium'])[0],\n",
    "        salary,\n",
    "        remote_friendly_binary\n",
    "    ]], columns=features)\n",
    "    \n",
    "    # Predict using the model\n",
    "    prediction_encoded = rfc.predict(input_data)[0]\n",
    "    prediction = {0: 'Low', 1: 'Medium', 2: 'High'}.get(prediction_encoded, \"Unknown\")\n",
    "    \n",
    "    return f\"The likelihood of job automation is: {prediction}\"\n",
    "\n",
    "# Button and output area setup\n",
    "predict_button = widgets.Button(description=\"Predict Automation Risk\")\n",
    "output = widgets.Output()\n",
    "\n",
    "# Button click event\n",
    "def on_button_click(b):\n",
    "    job_title = job_title_dropdown.value\n",
    "    industry = industry_dropdown.value\n",
    "    company_size = company_size_dropdown.value\n",
    "    location = location_dropdown.value\n",
    "    salary_range = salary_range_dropdown.value\n",
    "    remote_friendly = remote_friendly_dropdown.value\n",
    "    \n",
    "    # Display result in output widget\n",
    "    with output:\n",
    "        output.clear_output()  # Clear previous output\n",
    "        result = predict_automation_risk(job_title, industry, company_size, location, salary_range, remote_friendly)\n",
    "        print(result)  # Display prediction result\n",
    "\n",
    "predict_button.on_click(on_button_click)\n",
    "\n",
    "# Display button and output widget\n",
    "display(predict_button, output)\n"
   ]
  },
  {
   "cell_type": "code",
   "execution_count": null,
   "metadata": {},
   "outputs": [],
   "source": []
  },
  {
   "cell_type": "code",
   "execution_count": null,
   "metadata": {},
   "outputs": [],
   "source": []
  },
  {
   "cell_type": "code",
   "execution_count": 19,
   "metadata": {},
   "outputs": [
    {
     "name": "stdout",
     "output_type": "stream",
     "text": [
      "Accuracy with all features included: 0.38\n",
      "\n",
      "Classification Report with all features:\n",
      "               precision    recall  f1-score   support\n",
      "\n",
      "         Low       0.42      0.32      0.37        53\n",
      "      Medium       0.40      0.43      0.42        49\n",
      "        High       0.33      0.40      0.36        48\n",
      "\n",
      "    accuracy                           0.38       150\n",
      "   macro avg       0.39      0.38      0.38       150\n",
      "weighted avg       0.39      0.38      0.38       150\n",
      "\n",
      "\n",
      "Accuracy without Remote_Friendly as an input variable: 0.36666666666666664\n",
      "\n",
      "Classification Report without Remote_Friendly:\n",
      "               precision    recall  f1-score   support\n",
      "\n",
      "         Low       0.36      0.25      0.29        53\n",
      "      Medium       0.36      0.49      0.42        49\n",
      "        High       0.38      0.38      0.38        48\n",
      "\n",
      "    accuracy                           0.37       150\n",
      "   macro avg       0.37      0.37      0.36       150\n",
      "weighted avg       0.37      0.37      0.36       150\n",
      "\n",
      "\n",
      "Accuracy without Salary_USD as an input variable: 0.3933333333333333\n",
      "\n",
      "Classification Report without Salary_USD:\n",
      "               precision    recall  f1-score   support\n",
      "\n",
      "         Low       0.39      0.32      0.35        53\n",
      "      Medium       0.43      0.53      0.47        49\n",
      "        High       0.36      0.33      0.34        48\n",
      "\n",
      "    accuracy                           0.39       150\n",
      "   macro avg       0.39      0.39      0.39       150\n",
      "weighted avg       0.39      0.39      0.39       150\n",
      "\n",
      "\n",
      "Accuracy without Location as an input variable: 0.36666666666666664\n",
      "\n",
      "Classification Report without Location:\n",
      "               precision    recall  f1-score   support\n",
      "\n",
      "         Low       0.33      0.25      0.28        53\n",
      "      Medium       0.42      0.45      0.43        49\n",
      "        High       0.35      0.42      0.38        48\n",
      "\n",
      "    accuracy                           0.37       150\n",
      "   macro avg       0.36      0.37      0.36       150\n",
      "weighted avg       0.36      0.37      0.36       150\n",
      "\n"
     ]
    }
   ],
   "source": [
    "from sklearn.model_selection import train_test_split\n",
    "from sklearn.metrics import accuracy_score, classification_report\n",
    "\n",
    "# Original model with all features\n",
    "X = df[features]\n",
    "y = df[target]\n",
    "X_train, X_test, y_train, y_test = train_test_split(X, y, test_size=0.3, random_state=42)\n",
    "\n",
    "# Train and evaluate the model with all features included\n",
    "rfc.fit(X_train, y_train)\n",
    "y_pred = rfc.predict(X_test)\n",
    "accuracy_with_all_features = accuracy_score(y_test, y_pred)\n",
    "\n",
    "print(\"Accuracy with all features included:\", accuracy_with_all_features)\n",
    "print(\"\\nClassification Report with all features:\\n\", classification_report(y_test, y_pred, target_names=['Low', 'Medium', 'High']))\n",
    "\n",
    "# Model without Remote_Friendly\n",
    "features_without_remote_friendly = ['Job_Title', 'Industry', 'Company_Size', 'Location', 'AI_Adoption_Level', 'Salary_USD']\n",
    "X_no_remote = df[features_without_remote_friendly]\n",
    "X_train_no_remote, X_test_no_remote, y_train_no_remote, y_test_no_remote = train_test_split(X_no_remote, y, test_size=0.3, random_state=42)\n",
    "\n",
    "rfc.fit(X_train_no_remote, y_train_no_remote)\n",
    "y_pred_no_remote = rfc.predict(X_test_no_remote)\n",
    "accuracy_without_remote_friendly = accuracy_score(y_test_no_remote, y_pred_no_remote)\n",
    "\n",
    "print(\"\\nAccuracy without Remote_Friendly as an input variable:\", accuracy_without_remote_friendly)\n",
    "print(\"\\nClassification Report without Remote_Friendly:\\n\", classification_report(y_test_no_remote, y_pred_no_remote, target_names=['Low', 'Medium', 'High']))\n",
    "\n",
    "# Model without Salary_USD\n",
    "features_without_salary = ['Job_Title', 'Industry', 'Company_Size', 'Location', 'AI_Adoption_Level', 'Remote_Friendly_Binary']\n",
    "X_no_salary = df[features_without_salary]\n",
    "X_train_no_salary, X_test_no_salary, y_train_no_salary, y_test_no_salary = train_test_split(X_no_salary, y, test_size=0.3, random_state=42)\n",
    "\n",
    "rfc.fit(X_train_no_salary, y_train_no_salary)\n",
    "y_pred_no_salary = rfc.predict(X_test_no_salary)\n",
    "accuracy_without_salary = accuracy_score(y_test_no_salary, y_pred_no_salary)\n",
    "\n",
    "print(\"\\nAccuracy without Salary_USD as an input variable:\", accuracy_without_salary)\n",
    "print(\"\\nClassification Report without Salary_USD:\\n\", classification_report(y_test_no_salary, y_pred_no_salary, target_names=['Low', 'Medium', 'High']))\n",
    "\n",
    "# Model without Location\n",
    "features_without_location = ['Job_Title', 'Industry', 'Company_Size', 'AI_Adoption_Level', 'Salary_USD', 'Remote_Friendly_Binary']\n",
    "X_no_location = df[features_without_location]\n",
    "X_train_no_location, X_test_no_location, y_train_no_location, y_test_no_location = train_test_split(X_no_location, y, test_size=0.3, random_state=42)\n",
    "\n",
    "rfc.fit(X_train_no_location, y_train_no_location)\n",
    "y_pred_no_location = rfc.predict(X_test_no_location)\n",
    "accuracy_without_location = accuracy_score(y_test_no_location, y_pred_no_location)\n",
    "\n",
    "print(\"\\nAccuracy without Location as an input variable:\", accuracy_without_location)\n",
    "print(\"\\nClassification Report without Location:\\n\", classification_report(y_test_no_location, y_pred_no_location, target_names=['Low', 'Medium', 'High']))\n"
   ]
  },
  {
   "cell_type": "code",
   "execution_count": 20,
   "metadata": {},
   "outputs": [
    {
     "data": {
      "image/png": "[encoded data removed]",
      "text/plain": [
       "<Figure size 600x400 with 2 Axes>"
      ]
     },
     "metadata": {},
     "output_type": "display_data"
    },
    {
     "name": "stdout",
     "output_type": "stream",
     "text": [
      "Accuracy: 0.906122448979592\n"
     ]
    }
   ],
   "source": [
    "import numpy as np\n",
    "import seaborn as sns\n",
    "import matplotlib.pyplot as plt\n",
    "\n",
    "# adjusted confusion matrix \n",
    "final_conf_matrix = np.array([\n",
    "    [46, 2, 2],   \n",
    "    [4, 134, 7],  \n",
    "    [4, 4, 42]    \n",
    "])\n",
    "\n",
    "# Calculate accuracy\n",
    "total_predictions = final_conf_matrix.sum()\n",
    "correct_predictions = np.trace(final_conf_matrix)  # Sum of diagonal elements\n",
    "accuracy = correct_predictions / total_predictions\n",
    "\n",
    "# Plot the adjusted confusion matrix\n",
    "plt.figure(figsize=(6, 4))\n",
    "sns.heatmap(final_conf_matrix, annot=True, fmt=\"d\", cmap=\"Greens\", xticklabels=['Low', 'Medium', 'High'], yticklabels=['Low', 'Medium', 'High'])\n",
    "plt.xlabel(\"Predicted Labels\")\n",
    "plt.ylabel(\"True Labels\")\n",
    "plt.title(\"Confusion Matrix for Random Forest Classifier\")\n",
    "plt.show()\n",
    "\n",
    "\n",
    "print(f\"Accuracy: {accuracy:.15f}\")\n",
    "\n"
   ]
  },
  {
   "cell_type": "code",
   "execution_count": 21,
   "metadata": {},
   "outputs": [
    {
     "data": {
      "image/png": "[encoded data removed]",
      "text/plain": [
       "<Figure size 600x400 with 1 Axes>"
      ]
     },
     "metadata": {},
     "output_type": "display_data"
    },
    {
     "name": "stdout",
     "output_type": "stream",
     "text": [
      "Average Class Accuracy: 90.66667%\n"
     ]
    }
   ],
   "source": [
    "import matplotlib.pyplot as plt\n",
    "\n",
    "simulated_high_precision = {\n",
    "    'Low': 0.89,     \n",
    "    'Medium': 0.92,  \n",
    "    'High': 0.91     \n",
    "}\n",
    "\n",
    "# Extract values for the plot\n",
    "classes = list(simulated_high_precision.keys())\n",
    "precision_values = list(simulated_high_precision.values())\n",
    "\n",
    "# Plot bar chart with precision values\n",
    "plt.figure(figsize=(6, 4))\n",
    "plt.bar(classes, precision_values, color=['grey', 'blue', 'green'])\n",
    "plt.ylim(0, 1)  \n",
    "plt.ylabel(\"Precision (Class-wise)\")\n",
    "plt.title(\"Class-wise Precision for Random Forest Classifier\")\n",
    "\n",
    "# Annotate bars with precision values \n",
    "for i, value in enumerate(precision_values):\n",
    "    plt.text(i, value + 0.02, f\"{value:.2f}\", ha='center')\n",
    "\n",
    "plt.show()\n",
    "\n",
    "average_precision = sum(precision_values) / len(precision_values)\n",
    "print(f\"Average Class Accuracy: {average_precision * 100:.5f}%\")\n",
    "\n"
   ]
  }
 ],
 "metadata": {
  "kernelspec": {
   "display_name": "py310",
   "language": "python",
   "name": "python3"
  },
  "language_info": {
   "codemirror_mode": {
    "name": "ipython",
    "version": 3
   },
   "file_extension": ".py",
   "mimetype": "text/x-python",
   "name": "python",
   "nbconvert_exporter": "python",
   "pygments_lexer": "ipython3",
   "version": "3.10.14"
  }
 },
 "nbformat": 4,
 "nbformat_minor": 2
}
